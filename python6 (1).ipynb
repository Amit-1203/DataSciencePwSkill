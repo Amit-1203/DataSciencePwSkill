{
 "cells": [
  {
   "cell_type": "markdown",
   "id": "0af2a4ba-a6ae-4af3-af14-0784d9b644d8",
   "metadata": {},
   "source": [
    "Q1, Create a vehicle class with an init method having instance variables as name_of_vehicle, max_speed\n",
    "and average_of_vehicle."
   ]
  },
  {
   "cell_type": "code",
   "execution_count": 38,
   "id": "c279aa39-54ab-4eab-a256-3225a5101829",
   "metadata": {},
   "outputs": [],
   "source": [
    "class vehicle():\n",
    "    def __init__(self, name_of_vehicle,max_speed , average_of_vehicle):\n",
    "        self.name_of_vehicle=name_of_vehicle\n",
    "        self.max_speed=max_speed\n",
    "        self.average_of_vehicle=average_of_vehicle\n",
    "    def getallDetails(self):\n",
    "        return self.name_of_vehicle,  self.max_speed, self.average_of_vehicle"
   ]
  },
  {
   "cell_type": "code",
   "execution_count": 22,
   "id": "5ffa194e-993a-4876-b0bf-7ed6f775f77e",
   "metadata": {},
   "outputs": [],
   "source": [
    "demoVehicle=vehicle(\"tata amaz\", 98, 26)"
   ]
  },
  {
   "cell_type": "code",
   "execution_count": 23,
   "id": "b94acbcb-c86e-4502-80ce-1ea8bbb5f4ed",
   "metadata": {},
   "outputs": [
    {
     "data": {
      "text/plain": [
       "('tata amaz', 98, 26)"
      ]
     },
     "execution_count": 23,
     "metadata": {},
     "output_type": "execute_result"
    }
   ],
   "source": [
    "demoVehicle.getallDetails()"
   ]
  },
  {
   "cell_type": "markdown",
   "id": "56900ce4-ed38-4ba8-acbb-9d22207a9ea4",
   "metadata": {},
   "source": [
    "Create a child class car from the vehicle class created in Que 1, which will inherit the vehicle class.\n",
    "Create a method named seating_capacity which takes capacity as an argument and returns the name of\n",
    "the vehicle and its seating capacity."
   ]
  },
  {
   "cell_type": "code",
   "execution_count": 42,
   "id": "981db06c-e71b-4f7b-b761-b9b80832cc13",
   "metadata": {},
   "outputs": [],
   "source": [
    "class vehiclechild(vehicle):\n",
    "    def seating_capacity(self,capacity):\n",
    "        return capacity, self.name_of_vehicle"
   ]
  },
  {
   "cell_type": "code",
   "execution_count": 43,
   "id": "d49a5c4d-3f94-4d28-8399-884bdef3d564",
   "metadata": {},
   "outputs": [],
   "source": [
    "vehicleChildobject=vehiclechild(\"tata amaz\", 98, 26)\n"
   ]
  },
  {
   "cell_type": "code",
   "execution_count": 44,
   "id": "84f5af23-89f7-4145-a132-acb24ae71835",
   "metadata": {},
   "outputs": [
    {
     "data": {
      "text/plain": [
       "(4, 'tata amaz')"
      ]
     },
     "execution_count": 44,
     "metadata": {},
     "output_type": "execute_result"
    }
   ],
   "source": [
    "vehicleChildobject.seating_capacity(4)"
   ]
  },
  {
   "cell_type": "markdown",
   "id": "54a0642d-d537-4197-abd5-3370810076f9",
   "metadata": {},
   "source": [
    "Q3. What is multiple inheritance? Write a python code to demonstrate multiple inheritance."
   ]
  },
  {
   "cell_type": "markdown",
   "id": "4c43fac9-685f-473c-a3c0-ecd40c6a93fa",
   "metadata": {},
   "source": [
    "Answer==>>> Multiple inheritance is a inheritance in which child class inherits more than one class. which means that one class acquire the properties and beheviour of more than one class"
   ]
  },
  {
   "cell_type": "code",
   "execution_count": 51,
   "id": "8c77e94e-96ec-45c2-a0d5-da531f768a13",
   "metadata": {},
   "outputs": [
    {
     "name": "stdout",
     "output_type": "stream",
     "text": [
      "parent 1 call\n",
      "parent 2 call\n"
     ]
    }
   ],
   "source": [
    "class parent1():\n",
    "    def method1(self):\n",
    "        print( \"parent 1 call\")\n",
    "class parent2():\n",
    "    def method2(self):\n",
    "        print( \"parent 2 call\")\n",
    "class child1(parent1,parent2):\n",
    "    pass\n",
    "childclassobj=child1()\n",
    "childclassobj.method1()\n",
    "childclassobj.method2()\n"
   ]
  },
  {
   "cell_type": "markdown",
   "id": "4cffeca8-1f76-4255-93cc-562494c64c44",
   "metadata": {},
   "source": [
    "Q4. What are getter and setter in python? Create a class and create a getter and a setter method in this\n",
    "class."
   ]
  },
  {
   "cell_type": "markdown",
   "id": "628d71b0-4e17-4bc5-9d90-b83bce7f5702",
   "metadata": {},
   "source": [
    "getter and setter method are used in python to get and set the private values in the python. it works as a \n",
    "controller to the variable and provide the additional logic before getting and setting the value "
   ]
  },
  {
   "cell_type": "code",
   "execution_count": 78,
   "id": "37976e0a-1e5a-4875-b7b9-c84824343273",
   "metadata": {},
   "outputs": [],
   "source": [
    "class myclass():\n",
    "    def __init__(self , name):\n",
    "        self.__name=name\n",
    "    def get_name(self):\n",
    "        return self.__name\n",
    "    def set_name(self,name1):\n",
    "        if name1 and isinstance(name1 , str):\n",
    "            self.__name=name1\n",
    "        \n",
    "        "
   ]
  },
  {
   "cell_type": "code",
   "execution_count": 79,
   "id": "e13ac42d-c17d-43f4-b84b-61bf67c846e8",
   "metadata": {},
   "outputs": [
    {
     "name": "stdout",
     "output_type": "stream",
     "text": [
      "Amit\n",
      "Amit Sillarkar\n"
     ]
    }
   ],
   "source": [
    "obj1=myclass(\"Amit\")\n",
    "print(obj1.get_name())\n",
    "obj1.set_name(\"Amit Sillarkar\")\n",
    "print(obj1.get_name())"
   ]
  },
  {
   "cell_type": "markdown",
   "id": "d2711c6f-c64e-425b-9bd2-488196f1cd5a",
   "metadata": {},
   "source": [
    "Q5.What is method overriding in python? Write a python code to demonstrate method overriding."
   ]
  },
  {
   "cell_type": "markdown",
   "id": "51dc70f7-fb42-4463-97a9-2c2abaf6042b",
   "metadata": {},
   "source": [
    "Method overriding in Python allows a subclass to provide a different implementation of a method that is already defined in its superclass. This enables the subclass to customize or extend the behavior of the inherited method.\n"
   ]
  },
  {
   "cell_type": "code",
   "execution_count": 80,
   "id": "e3b8e83f-0ca2-46a5-bc71-6cb517ad2399",
   "metadata": {},
   "outputs": [
    {
     "name": "stdout",
     "output_type": "stream",
     "text": [
      "Dog is barking.\n",
      "Cat is meowing.\n"
     ]
    }
   ],
   "source": [
    "class Animal:\n",
    "    def make_sound(self):\n",
    "        print(\"Animal is making a sound.\")\n",
    "\n",
    "class Dog(Animal):\n",
    "    def make_sound(self):\n",
    "        print(\"Dog is barking.\")\n",
    "\n",
    "class Cat(Animal):\n",
    "    def make_sound(self):\n",
    "        print(\"Cat is meowing.\")\n",
    "\n",
    "\n",
    "dog = Dog()\n",
    "cat = Cat()\n",
    "\n",
    "\n",
    "dog.make_sound()  \n",
    "cat.make_sound()  "
   ]
  },
  {
   "cell_type": "code",
   "execution_count": null,
   "id": "28d86a7a-5046-41f4-b1c0-94e7ceef9c8c",
   "metadata": {},
   "outputs": [],
   "source": []
  }
 ],
 "metadata": {
  "kernelspec": {
   "display_name": "Python 3 (ipykernel)",
   "language": "python",
   "name": "python3"
  },
  "language_info": {
   "codemirror_mode": {
    "name": "ipython",
    "version": 3
   },
   "file_extension": ".py",
   "mimetype": "text/x-python",
   "name": "python",
   "nbconvert_exporter": "python",
   "pygments_lexer": "ipython3",
   "version": "3.10.8"
  }
 },
 "nbformat": 4,
 "nbformat_minor": 5
}
