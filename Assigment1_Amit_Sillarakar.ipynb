{
 "cells": [
  {
   "cell_type": "code",
   "execution_count": 4,
   "id": "ad6557d1-f3cb-460f-8206-421312d8b09b",
   "metadata": {},
   "outputs": [
    {
     "name": "stdout",
     "output_type": "stream",
     "text": [
      "<class 'str'>\n",
      "<class 'list'>\n",
      "<class 'float'>\n",
      "<class 'tuple'>\n"
     ]
    }
   ],
   "source": [
    "    # Q1. Create one variable containing following type of data:\n",
    "    #(i) string\n",
    "    #(ii) list\n",
    "    #(iii) float\n",
    "    #(iv) tuple\n",
    "   \n",
    "        # (i) string\n",
    "stringData=\"these is the string data\"\n",
    "print(type(stringData))\n",
    "    \n",
    "        #(ii) list\n",
    "Datalist=[10,20,30,7+6j, \"pw skill\"]\n",
    "print(type(Datalist))\n",
    "        #(iii) float\n",
    "floatData=45.8\n",
    "print(type(floatData))\n",
    "          #(iv) tuple\n",
    "tupleData=(\"apple\", \"cherry\", \"Banana\")\n",
    "print( type(tupleData))"
   ]
  },
  {
   "cell_type": "code",
   "execution_count": 9,
   "id": "bc924b21-8626-4918-b5c6-b5a5d62387e4",
   "metadata": {},
   "outputs": [
    {
     "name": "stdout",
     "output_type": "stream",
     "text": [
      "<class 'str'>\n",
      "<class 'str'>\n",
      "<class 'list'>\n",
      "<class 'int'>\n"
     ]
    }
   ],
   "source": [
    "#Q2. Given are some following variables containing data:\n",
    "#(i) var1 = ‘ ‘\n",
    "#(ii) var2 = ‘[ DS , ML , Python]’\n",
    "#(iii) var3 = [ ‘DS’ , ’ML’ , ‘Python’ ]\n",
    "#(iv) var4 = 1.\n",
    "#What will be the data type of the above given variable.\n",
    "var1 = ''      # var1 has Data type String\n",
    "var2 = '[ DS , ML , Python]'     # var2 has Data type string\n",
    "var3 = [ 'DS' , 'ML' , 'Python' ]   # var3 has Data type list\n",
    "var4 = 1   # var4 has data type String\n",
    "print(type(var1))\n",
    "print(type(var2))\n",
    "print(type(var3))\n",
    "print(type(var4))"
   ]
  },
  {
   "cell_type": "code",
   "execution_count": 13,
   "id": "1c6ad599-e6d1-4e4f-b882-a8d06075aee5",
   "metadata": {},
   "outputs": [
    {
     "name": "stdout",
     "output_type": "stream",
     "text": [
      "2.0\n",
      "1\n",
      "2\n",
      "8\n"
     ]
    }
   ],
   "source": [
    "#Q3. Explain the use of the following operators using an example:\n",
    "#(i) /\n",
    "#(ii) %\n",
    "#(iii) //\n",
    "#(iv) **\n",
    "\n",
    "#(i) / \n",
    "# these is an Division operator . the use of these operator is to perform Devision between two number\n",
    "# example\n",
    "a=4/2\n",
    "print(a)\n",
    "\n",
    "#(ii) %\n",
    "\n",
    "# these is an Modulus operator . the use of these operator is to find remender after the Devision perform\n",
    "# example\n",
    "b=4%3\n",
    "print(b)\n",
    "\n",
    "#(iii) //\n",
    "# the // operator is used for floor division or integer division. It performs division between two numbers and returns \n",
    "#the largest integer that is less than or equal to the result.\n",
    "c=5//2\n",
    "print(c)\n",
    "\n",
    "#(iv) **\n",
    "\n",
    "# these is an power operator . the use of these operator is to find power of first number to the second number i.e 2**3= 2*2*2=8\n",
    "# example\n",
    "d=2**3\n",
    "print(d)\n"
   ]
  },
  {
   "cell_type": "code",
   "execution_count": 15,
   "id": "b07b3744-8a55-4e22-9193-086bf6abf941",
   "metadata": {},
   "outputs": [
    {
     "name": "stdout",
     "output_type": "stream",
     "text": [
      "<class 'int'> these is the Data type of  10\n",
      "<class 'int'> these is the Data type of  20\n",
      "<class 'int'> these is the Data type of  30\n",
      "<class 'str'> these is the Data type of  abc\n",
      "<class 'complex'> these is the Data type of  (7+4j)\n",
      "<class 'float'> these is the Data type of  6.7\n",
      "<class 'int'> these is the Data type of  1\n",
      "<class 'int'> these is the Data type of  3\n",
      "<class 'int'> these is the Data type of  6\n",
      "<class 'int'> these is the Data type of  7\n"
     ]
    }
   ],
   "source": [
    "#Q4. Create a list of length 10 of your choice containing multiple types of data. Using for loop print the\n",
    "#element and its data type.\n",
    "listData=[10,20,30, \"abc\", 7+4j, 6.7, 1, 3 ,6 ,7]\n",
    "for i in listData:\n",
    "    print(type(i), \"these is the Data type of \", i)"
   ]
  },
  {
   "cell_type": "code",
   "execution_count": 29,
   "id": "c391bae5-9586-4d7a-9c03-2962b0b66a4b",
   "metadata": {},
   "outputs": [
    {
     "name": "stdout",
     "output_type": "stream",
     "text": [
      " yes it is divisible and it can be divisible  4 times\n"
     ]
    }
   ],
   "source": [
    "#Q5. Using a while loop, verify if the number A is purely divisible by number B and if so then how many\n",
    "#times it can be divisible.\n",
    "A=2\n",
    "B=16\n",
    "count=0;\n",
    "if B%A==0:\n",
    "    while(B%A==0):\n",
    "        count=count+1\n",
    "        B=B/A \n",
    "    print(\" yes it is divisible and it can be divisible \",count, \"times\" )\n",
    "else :\n",
    "    print(\"No it can be divisible \")\n",
    "\n",
    "        \n",
    "    \n",
    "    \n",
    "\t"
   ]
  },
  {
   "cell_type": "code",
   "execution_count": 31,
   "id": "d495ccb4-d085-4dee-92ff-bebdfc27919e",
   "metadata": {},
   "outputs": [
    {
     "name": "stdout",
     "output_type": "stream",
     "text": [
      "25\n",
      "1  is not divisible by 3\n",
      "2  is not divisible by 3\n",
      "3  is divisible by 3\n",
      "4  is not divisible by 3\n",
      "5  is not divisible by 3\n",
      "6  is divisible by 3\n",
      "7  is not divisible by 3\n",
      "8  is not divisible by 3\n",
      "9  is divisible by 3\n",
      "10  is not divisible by 3\n",
      "12  is divisible by 3\n",
      "21  is divisible by 3\n",
      "34  is not divisible by 3\n",
      "56  is not divisible by 3\n",
      "45  is divisible by 3\n",
      "23  is not divisible by 3\n",
      "66  is divisible by 3\n",
      "12  is divisible by 3\n",
      "77  is not divisible by 3\n",
      "89  is not divisible by 3\n",
      "99  is divisible by 3\n",
      "44  is not divisible by 3\n",
      "6  is divisible by 3\n",
      "7  is not divisible by 3\n",
      "4  is not divisible by 3\n"
     ]
    }
   ],
   "source": [
    "#Q6. Create a list containing 25 int type data. Using for loop and if-else condition print if the element is\n",
    "#divisible by 3 or not.\n",
    "\n",
    "listData=[1,2,3,4,5,6,7,8,9,10,12,21,34,56,45,23,66,12,77,89,99,44, 6,7,4]\n",
    "print(len(listData))\n",
    "for i in listData:\n",
    "    if i%3==0:\n",
    "        print(i,\" is divisible by 3\")\n",
    "    else:\n",
    "        print(i,\" is not divisible by 3\")\n"
   ]
  },
  {
   "cell_type": "code",
   "execution_count": null,
   "id": "a66d77b6-6d61-43bc-b411-9192955c7eed",
   "metadata": {},
   "outputs": [],
   "source": [
    "#Q7. What do you understand about mutable and immutable data types? Give examples for both showing\n",
    "#this property.\n",
    "\n",
    "# immutable data types\n",
    "#Immutable data types are those whose values cannot be changed once they are assigned.\n",
    "#If you modify an immutable object, a new object is created with the modified value, rather than modifying the original object in place.\n",
    "#Examples of immutable data types in Python include integers, floats, strings, and tuples.\n",
    "\n",
    "# Examples of immutable data types\n",
    "# Integer\n",
    "x = 10\n",
    "print(x)  # Output: 10\n",
    "x = 20  # Creating a new object with a modified value\n",
    "print(x)  # Output: 20\n",
    "\n",
    "# String\n",
    "s = \"Hello\"\n",
    "print(s)  # Output: Hello\n",
    "s += \" World\"  # Creating a new object with a modified value\n",
    "print(s)  # Output: Hello World\n",
    "\n",
    "# Tuple\n",
    "t = (1, 2, 3)\n",
    "print(t)  # Output: (1, 2, 3)\n",
    "# Modifying a tuple creates a new tuple\n",
    "t += (4, 5)\n",
    "print(t)  # Output: (1, 2, 3, 4, 5)\n",
    "\n",
    "\n",
    "#Mutable data types:\n",
    "\n",
    "#Mutable data types are those whose values can be modified after they are assigned.\n",
    "#If you modify a mutable object, the changes are reflected directly in the original object itself.\n",
    "Examples of mutable data types in Python include lists, dictionaries, and sets."
   ]
  }
 ],
 "metadata": {
  "kernelspec": {
   "display_name": "Python 3 (ipykernel)",
   "language": "python",
   "name": "python3"
  },
  "language_info": {
   "codemirror_mode": {
    "name": "ipython",
    "version": 3
   },
   "file_extension": ".py",
   "mimetype": "text/x-python",
   "name": "python",
   "nbconvert_exporter": "python",
   "pygments_lexer": "ipython3",
   "version": "3.10.8"
  }
 },
 "nbformat": 4,
 "nbformat_minor": 5
}
