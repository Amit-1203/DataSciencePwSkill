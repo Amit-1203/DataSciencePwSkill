{
 "cells": [
  {
   "cell_type": "code",
   "execution_count": 1,
   "id": "2ad3d0b2-5704-4a20-839f-8b9d309c03f0",
   "metadata": {},
   "outputs": [],
   "source": [
    "#Q1. How do you comment code in Python? What are the different types of comments?\n",
    "# there are 2 types of comments in python \n",
    "# 1st one is Single line comment  which is denoted by # at the start of the line\n",
    "# 2nd one is the multi line comments which can be denoted by (''' or \"\"\")  3 dots at the \n",
    "# start and the end of the commets line\n",
    "# 3rd is that we can give # at the start of every line and make it as multi line comments"
   ]
  },
  {
   "cell_type": "code",
   "execution_count": 6,
   "id": "26250434-d043-49f4-8d5d-00eae9f4ae76",
   "metadata": {},
   "outputs": [
    {
     "data": {
      "text/plain": [
       "56"
      ]
     },
     "execution_count": 6,
     "metadata": {},
     "output_type": "execute_result"
    }
   ],
   "source": [
    "#Q2. What are variables in Python? How do you declare and assign values to variables?\n",
    "\"\"\"In Python, variables are used to store data values. A variable is essentially a name\n",
    "that you assign to a specific value or\n",
    "object in memory. You can think of variables as containers that hold information.\n",
    "\n",
    "To declare and assign values to variables in Python, you follow a simple syntax:\n",
    "\n",
    "python\n",
    "Copy code\n",
    "variable_name = value\n",
    "\n",
    "\n",
    "\"\"\"\n",
    "#example \n",
    "integer_data=56\n",
    "integer_data"
   ]
  },
  {
   "cell_type": "code",
   "execution_count": 8,
   "id": "a5e65f39-2823-48a6-93b8-93ad03d4958c",
   "metadata": {},
   "outputs": [
    {
     "data": {
      "text/plain": [
       "int"
      ]
     },
     "execution_count": 8,
     "metadata": {},
     "output_type": "execute_result"
    }
   ],
   "source": [
    "# Q3. How do you convert one data type to another in Python?\n",
    "\n",
    "''' Ans :=>  we can convert the one data type into another by using the \n",
    "type conversion method or function which is know as type casting also\n",
    "'''\n",
    "# example of these is \n",
    "string_data='3405300'\n",
    "integer_data=int(string_data)\n",
    "type(integer_data)"
   ]
  },
  {
   "cell_type": "code",
   "execution_count": null,
   "id": "09ba38fd-54b7-4ad1-a99f-f4cc9a03bc9f",
   "metadata": {},
   "outputs": [],
   "source": [
    "# Q4. How do you write and execute a Python script from the command line?\n",
    "\n",
    "''' Answer\n",
    "To write and execute a Python script from the command line, you can follow these steps:\n",
    "\n",
    "1) Open a text editor of your choice, such as Notepad, Sublime Text, or Visual Studio Code.\n",
    "\n",
    "2) Write your Python code in the text editor, saving the file with a .py extension. For example, you can create a file named script.py.\n",
    "\n",
    "script.py\n",
    "print(\"Hello, World!\")\n",
    "\n",
    "3) Open the command prompt or terminal on your computer.\n",
    "\n",
    "4) Navigate to the directory where your Python script is saved using the cd command. For example, if your script is saved in the Documents folder:\n",
    "\n",
    "\n",
    "cd Documents\n",
    "5) Once you're in the correct directory, you can execute the Python script by typing python followed by the script's filename.\n",
    "\n",
    "\n",
    "6) The Python interpreter will execute the script, and you should see the output of your script in the command prompt or terminal:\n",
    "\n",
    "Hello, World!  '''"
   ]
  },
  {
   "cell_type": "code",
   "execution_count": 11,
   "id": "7af7c58c-2360-4977-ace6-306703bcc644",
   "metadata": {},
   "outputs": [
    {
     "data": {
      "text/plain": [
       "[2, 3]"
      ]
     },
     "execution_count": 11,
     "metadata": {},
     "output_type": "execute_result"
    }
   ],
   "source": [
    "#  Q5. Given a list my_list = [1, 2, 3, 4, 5], write the code to slice the list and obtain the sub-list [2, 3].\n",
    "my_list = [1, 2, 3, 4, 5]\n",
    "my_new_Sub_list=my_list[1:3]\n",
    "my_new_Sub_list"
   ]
  },
  {
   "cell_type": "code",
   "execution_count": 12,
   "id": "d3735b11-cebc-438e-8537-c07589c8a0e0",
   "metadata": {},
   "outputs": [
    {
     "data": {
      "text/plain": [
       "complex"
      ]
     },
     "execution_count": 12,
     "metadata": {},
     "output_type": "execute_result"
    }
   ],
   "source": [
    "#  Q6. What is a complex number in mathematics, and how is it represented in Python?\n",
    "\n",
    "'''In mathematics, a complex number is a number that comprises both a real part and an imaginary part. It is\n",
    "expressed in the form a + bi, where a represents the real part and b represents the imaginary part. The imaginary\n",
    "part is multiplied by the imaginary unit i, which is defined as the square root of -1.\n",
    "\n",
    "In Python, complex numbers are represented using the complex data type. The imaginary part is denoted by the suffix j or J. \n",
    "Here are a few examples: '''\n",
    "\n",
    "# in python i is replace by j or J\n",
    "complex_data_type=5+9j\n",
    "type(complex_data_type)"
   ]
  },
  {
   "cell_type": "code",
   "execution_count": 14,
   "id": "d2cd3420-2e4c-43a9-9586-7f79fa609694",
   "metadata": {},
   "outputs": [
    {
     "data": {
      "text/plain": [
       "int"
      ]
     },
     "execution_count": 14,
     "metadata": {},
     "output_type": "execute_result"
    }
   ],
   "source": [
    "# Q7. What is the correct way to declare a variable named age and assign the value 25 to it?\n",
    "''' we can write directly as  '''\n",
    "age=25\n",
    "type(age)\n",
    "# age which consider automatically as integer in python . python is smart enough to unterstand it\n",
    " "
   ]
  },
  {
   "cell_type": "code",
   "execution_count": 15,
   "id": "d232117a-dd9b-45a0-911a-9fadab7801f8",
   "metadata": {},
   "outputs": [
    {
     "data": {
      "text/plain": [
       "float"
      ]
     },
     "execution_count": 15,
     "metadata": {},
     "output_type": "execute_result"
    }
   ],
   "source": [
    "# Q8. Declare a variable named price and assign the value 9.99 to it. What data type does this variable belong to?\n",
    "price= 9.99\n",
    "\n",
    "''' here after a number there is an decimal point so python understand the number and treat it as a float data type '''\n",
    "type(price)"
   ]
  },
  {
   "cell_type": "code",
   "execution_count": 23,
   "id": "c40db4fb-e807-4bd8-b968-cafa8bc1a6b5",
   "metadata": {},
   "outputs": [
    {
     "name": "stdout",
     "output_type": "stream",
     "text": [
      "Amit Subhashchandra Sillarkar\n"
     ]
    }
   ],
   "source": [
    "# Q9. Create a variable named name and assign your full name to it as a string. How would you print the value of this variable?\n",
    "name='Amit Subhashchandra Sillarkar'\n",
    "    # if we want to print it then we write as\n",
    "name\n",
    "# or write name inside of print\n",
    "print(name)"
   ]
  },
  {
   "cell_type": "code",
   "execution_count": 26,
   "id": "fbf5a17f-8acd-41bf-835b-eeb78bdd5deb",
   "metadata": {},
   "outputs": [
    {
     "name": "stdout",
     "output_type": "stream",
     "text": [
      "World\n"
     ]
    }
   ],
   "source": [
    "# Q10. Given the string \"Hello, World!\", extract the substring \"World\".\n",
    "string=\"Hello, World!\"\n",
    "       #012345678910111213\n",
    "new_String= string[7:12]\n",
    "print(new_String)"
   ]
  },
  {
   "cell_type": "code",
   "execution_count": 45,
   "id": "e9baf5bf-d6f1-4176-ab49-2cbf78ed46b7",
   "metadata": {},
   "outputs": [
    {
     "name": "stdin",
     "output_type": "stream",
     "text": [
      "tell me whether you are student or not say only yes if you are  and say no if you are not a student fvdfvf\n"
     ]
    },
    {
     "name": "stdout",
     "output_type": "stream",
     "text": [
      "invalid input re run your progress and say only 'yes' or 'no' \n"
     ]
    }
   ],
   "source": [
    "# Q11. Create a variable named \"is_student\" and assign it a boolean value indicating whether you are\n",
    "# currently a student or not.\n",
    "checkStudentorNot=input('tell me whether you are student or not say only yes if you are  and say no if you are not a student')\n",
    "if checkStudentorNot=='yes':\n",
    "    is_student=True\n",
    "    wrong_Answer=False\n",
    "elif checkStudentorNot=='no':\n",
    "    is_student=False\n",
    "    wrong_Answer=False\n",
    "else :\n",
    "    print(\"invalid input re run your progress and say only 'yes' or 'no' \")\n",
    "    wrong_Answer=True\n",
    "\n",
    "if is_student==True and wrong_Answer==False :\n",
    "     print('by the given information you are the student which I got')\n",
    "elif is_student==False and wrong_Answer==False :\n",
    "     print('by the given information you are not a student which I got')\n",
    "    "
   ]
  },
  {
   "cell_type": "code",
   "execution_count": null,
   "id": "7a90eb8d-dc3b-4faf-a534-77c07845bd09",
   "metadata": {},
   "outputs": [],
   "source": []
  }
 ],
 "metadata": {
  "kernelspec": {
   "display_name": "Python 3 (ipykernel)",
   "language": "python",
   "name": "python3"
  },
  "language_info": {
   "codemirror_mode": {
    "name": "ipython",
    "version": 3
   },
   "file_extension": ".py",
   "mimetype": "text/x-python",
   "name": "python",
   "nbconvert_exporter": "python",
   "pygments_lexer": "ipython3",
   "version": "3.10.8"
  }
 },
 "nbformat": 4,
 "nbformat_minor": 5
}
