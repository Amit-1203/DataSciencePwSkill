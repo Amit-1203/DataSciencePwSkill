{
 "cells": [
  {
   "cell_type": "markdown",
   "id": "9db0b94b-1c89-454a-ad3e-09ac6a755878",
   "metadata": {},
   "source": [
    "Q1. Create a python program to sort the given list of tuples based on integer value using a\n",
    "lambda function.\n",
    "[('Sachin Tendulkar', 34357), ('Ricky Ponting', 27483), ('Jack Kallis', 25534), ('Virat Kohli', 24936)]"
   ]
  },
  {
   "cell_type": "code",
   "execution_count": 5,
   "id": "da1c66f8-335a-4d08-b853-a28bf92864ce",
   "metadata": {},
   "outputs": [
    {
     "name": "stdout",
     "output_type": "stream",
     "text": [
      "[('Virat Kohli', 24936), ('Jack Kallis', 25534), ('Ricky Ponting', 27483), ('Sachin Tendulkar', 34357)]\n"
     ]
    }
   ],
   "source": [
    "data_list=[('Sachin Tendulkar', 34357), ('Ricky Ponting', 27483), ('Jack Kallis', 25534), ('Virat Kohli', 24936)]\n",
    "sorted_data=sorted(data_list, key=lambda x:x[1])\n",
    "print(sorted_data)"
   ]
  },
  {
   "cell_type": "markdown",
   "id": "a061dceb-aa0a-4453-a1f5-4a705d3c195e",
   "metadata": {},
   "source": [
    "Q2. Write a Python Program to find the squares of all the numbers in the given list of integers using\n",
    "lambda and map functions.\n",
    "[1, 2, 3, 4, 5, 6, 7, 8, 9, 10]"
   ]
  },
  {
   "cell_type": "code",
   "execution_count": 7,
   "id": "45561274-0e72-4fef-95f7-27d34771f58e",
   "metadata": {},
   "outputs": [
    {
     "name": "stdout",
     "output_type": "stream",
     "text": [
      "[1, 4, 9, 16, 25, 36, 49, 64, 81, 100]\n"
     ]
    }
   ],
   "source": [
    "data=[1, 2, 3, 4, 5, 6, 7, 8, 9, 10]\n",
    "square_data=map(lambda x: x**2, data)\n",
    "print(list(square_data))"
   ]
  },
  {
   "cell_type": "markdown",
   "id": "5d55fcf0-318d-4530-9584-fe9b7875fd2c",
   "metadata": {},
   "source": [
    "Q3. Write a python program to convert the given list of integers into a tuple of strings. Use map and\n",
    "lambda functions\n",
    "Given String: [1, 2, 3, 4, 5, 6, 7, 8, 9, 10]\n",
    "Expected output: ('1', '2', '3', '4', '5', '6', '7', '8', '9', '10')"
   ]
  },
  {
   "cell_type": "code",
   "execution_count": 14,
   "id": "44f27f08-2a1a-45e6-a524-5fd33b76cc8f",
   "metadata": {},
   "outputs": [
    {
     "name": "stdout",
     "output_type": "stream",
     "text": [
      "('1', '2', '3', '4', '5', '6', '7', '8', '9', '10')\n"
     ]
    }
   ],
   "source": [
    "data_list=[1, 2, 3, 4, 5, 6, 7, 8, 9, 10]\n",
    "tuple_data=map(lambda x: str(x),data_list)\n",
    "print(tuple(tuple_data))"
   ]
  },
  {
   "cell_type": "markdown",
   "id": "9a951edd-b095-4ae2-8a0e-a96b054a2886",
   "metadata": {},
   "source": [
    "Q4. Write a python program using reduce function to compute the product of a list containing numbers\n",
    "from 1 to 25."
   ]
  },
  {
   "cell_type": "code",
   "execution_count": 20,
   "id": "d0992eec-6529-4a77-ad87-a29e9f3b2336",
   "metadata": {},
   "outputs": [
    {
     "name": "stdout",
     "output_type": "stream",
     "text": [
      "15511210043330985984000000\n"
     ]
    }
   ],
   "source": [
    "from functools import reduce\n",
    "product=reduce(lambda x,y:x*y, list(range(1,26)))\n",
    "print(product)"
   ]
  },
  {
   "cell_type": "markdown",
   "id": "eb0cbd14-b0b0-457d-ae71-fa8a36d5d472",
   "metadata": {},
   "source": [
    "Q5. Write a python program to filter the numbers in a given list that are divisible by 2 and 3 using the\n",
    "filter function.\n",
    "[2, 3, 6, 9, 27, 60, 90, 120, 55, 46]"
   ]
  },
  {
   "cell_type": "code",
   "execution_count": 24,
   "id": "5cfcb36c-ddf4-4dcf-a0cf-e4f8746fe4f3",
   "metadata": {},
   "outputs": [
    {
     "name": "stdout",
     "output_type": "stream",
     "text": [
      "[6, 60, 90, 120]\n"
     ]
    }
   ],
   "source": [
    "list_data=[2, 3, 6, 9, 27, 60, 90, 120, 55, 46]\n",
    "list_output=filter(lambda x: x%2==0 and x%3==0 ,list_data )\n",
    "print(list(list_output))"
   ]
  },
  {
   "cell_type": "markdown",
   "id": "14a311b7-e08a-41d1-867d-429ea6124663",
   "metadata": {},
   "source": [
    "Q6. Write a python program to find palindromes in the given list of strings using lambda and filter\n",
    "function.\n",
    "['python', 'php', 'aba', 'radar', 'level']"
   ]
  },
  {
   "cell_type": "code",
   "execution_count": null,
   "id": "fd7f3f8f-71ce-4bc7-923b-50112ca6044c",
   "metadata": {},
   "outputs": [],
   "source": [
    "list_data=['python', 'php', 'aba', 'radar', 'level']\n",
    "list_result=filter(lambda x: x[::-1]==x,list_data )\n",
    "print(list(list_result))"
   ]
  },
  {
   "cell_type": "code",
   "execution_count": null,
   "id": "f8999d61-af98-47e6-b052-5d19358fc4e4",
   "metadata": {},
   "outputs": [],
   "source": []
  },
  {
   "cell_type": "code",
   "execution_count": null,
   "id": "4e2733cd-d8d5-4554-ba32-5d2d84ee646c",
   "metadata": {},
   "outputs": [],
   "source": []
  }
 ],
 "metadata": {
  "kernelspec": {
   "display_name": "Python 3 (ipykernel)",
   "language": "python",
   "name": "python3"
  },
  "language_info": {
   "codemirror_mode": {
    "name": "ipython",
    "version": 3
   },
   "file_extension": ".py",
   "mimetype": "text/x-python",
   "name": "python",
   "nbconvert_exporter": "python",
   "pygments_lexer": "ipython3",
   "version": "3.10.8"
  }
 },
 "nbformat": 4,
 "nbformat_minor": 5
}
