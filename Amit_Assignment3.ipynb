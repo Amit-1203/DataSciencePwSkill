{
 "cells": [
  {
   "cell_type": "markdown",
   "id": "e307b4d6-861c-4086-a994-b77f530e2edf",
   "metadata": {},
   "source": [
    "Q1. Which keyword is used to create a function? Create a function to return a list of odd numbers in the\n",
    "range of 1 to 25."
   ]
  },
  {
   "cell_type": "markdown",
   "id": "db01af1e-3622-4f27-a6b2-a97d99ceda7a",
   "metadata": {},
   "source": [
    "  Ans  =>>  def is the keyword is used to create a function \n",
    "            following is an Example of function to return a list of odd numbers in the range of 1 to 25."
   ]
  },
  {
   "cell_type": "code",
   "execution_count": 17,
   "id": "b93b7c15-3001-44e7-86c2-529de6d7dfd2",
   "metadata": {},
   "outputs": [
    {
     "name": "stdout",
     "output_type": "stream",
     "text": [
      "[1, 3, 5, 7, 9, 11, 13, 15, 17, 19, 21, 23, 25]\n"
     ]
    }
   ],
   "source": [
    "def oddnumbers():\n",
    "    list1=[]\n",
    "    for i in range(1,26):\n",
    "         if i%2!=0:\n",
    "                list1.append(i)\n",
    "    return list1\n",
    "result=oddnumbers()\n",
    "print(result)\n",
    "                "
   ]
  },
  {
   "cell_type": "markdown",
   "id": "ec12325b-f515-4d4e-80fa-40082d00ff8f",
   "metadata": {},
   "source": [
    "Q2. Why *args and **kwargs is used in some functions? Create a function each for *args and **kwargs\n",
    "to demonstrate their use."
   ]
  },
  {
   "cell_type": "markdown",
   "id": "dec513c9-7954-4ace-8b18-e1dff8763242",
   "metadata": {},
   "source": [
    "*args  takes any number of variable arguments from the functions IT TAKES tuple as the input \n",
    "wheras\n",
    "**kwargs takes any number of keywords as the function argument. it takes dictonary as the input\n",
    "example of *args and **kwargs is shown below"
   ]
  },
  {
   "cell_type": "code",
   "execution_count": 20,
   "id": "1f534cc6-1c43-49c2-aaf7-a608448ce8cf",
   "metadata": {},
   "outputs": [
    {
     "name": "stdout",
     "output_type": "stream",
     "text": [
      "[1, 2, 4, 5, 6, 7]\n"
     ]
    }
   ],
   "source": [
    "# *args Example\n",
    "def print_list(*args):\n",
    "    l=[]\n",
    "    for i in args:\n",
    "        l.append(i)\n",
    "    return l\n",
    "result=print_list(1,2,4,5,6,7)\n",
    "print(result)"
   ]
  },
  {
   "cell_type": "code",
   "execution_count": 24,
   "id": "579d6903-5c28-45bb-a257-5c516ba4b4e4",
   "metadata": {},
   "outputs": [
    {
     "name": "stdout",
     "output_type": "stream",
     "text": [
      "name = amit\n",
      "age = 27\n",
      "city = Sambhajinagar\n",
      "None\n"
     ]
    }
   ],
   "source": [
    "# **kwargs Example\n",
    "def print_dict(**kwargs):\n",
    "    for key , value in kwargs.items():\n",
    "        print(key, \"=\", value)\n",
    "result=print_dict(name=\"amit\", age=27, city=\"Sambhajinagar\")\n",
    "print(result)"
   ]
  },
  {
   "cell_type": "markdown",
   "id": "05b1a742-67f3-409d-8b63-dc4960165adb",
   "metadata": {},
   "source": [
    "Q3. What is an iterator in python? Name the method used to initialise the iterator object and the method\n",
    "used for iteration. Use these methods to print the first five elements of the given list [2, 4, 6, 8, 10, 12, 14,\n",
    "16, 18, 20]."
   ]
  },
  {
   "cell_type": "markdown",
   "id": "3ca6adc5-2855-4d03-bfd4-280c3dc70fdc",
   "metadata": {},
   "source": [
    "iterator is object in python which allows the iteration over an elements. It provide us to take one element\n",
    "at a time without taking whole container at once.\n",
    "iter is the function use to make iterable elements as iterator and to intialise it.\n",
    "the method used for the iteration is next() to call the next element from the container of iterable elements"
   ]
  },
  {
   "cell_type": "code",
   "execution_count": 26,
   "id": "7f196d2c-59b5-4082-92f1-070545a3ea74",
   "metadata": {},
   "outputs": [
    {
     "name": "stdout",
     "output_type": "stream",
     "text": [
      "2\n",
      "4\n",
      "6\n",
      "8\n",
      "10\n"
     ]
    }
   ],
   "source": [
    "list2= [2, 4, 6, 8, 10, 12, 14, 16, 18, 20]\n",
    "list3=iter(list2)\n",
    "for _ in range(5):\n",
    "    print(next(list3))"
   ]
  },
  {
   "cell_type": "markdown",
   "id": "b485c46b-88e7-49a9-9154-4f1617c5f94e",
   "metadata": {},
   "source": [
    "Q4. What is a generator function in python? Why yield keyword is used? Give an example of a generator\n",
    "function."
   ]
  },
  {
   "cell_type": "markdown",
   "id": "98b75e15-c121-45c1-9ea6-e9101e603660",
   "metadata": {},
   "source": [
    "Ans :=>>  In Python, a generator function is a special type of function that returns an iterator, which can be iterated over to retrieve values one at a time. It allows you to define an iterable sequence by writing a function that generates the values on-the-fly, rather than creating the entire sequence in memory.\n",
    "\n",
    "The yield keyword is used in a generator function to indicate where the value should be yielded (returned) to the caller. When a generator function is called, it returns an iterator object but doesn't execute the body of the function immediately. Instead, it starts from the beginning of the function and proceeds until it encounters the yield statement. At that point, it yields the value, suspends the function's execution, and saves its state. The next time the iterator's next() method is called, the function resumes from where it left off, allowing it to generate the next value."
   ]
  },
  {
   "cell_type": "code",
   "execution_count": null,
   "id": "6eefae4b-7d9b-47fb-adb1-762f3639957d",
   "metadata": {},
   "outputs": [],
   "source": [
    "def count():\n",
    "    for i in range(6):\n",
    "        yield i\n",
    "\n",
    "result = count()\n",
    "\n",
    "for number in result:\n",
    "    print(number)\n"
   ]
  },
  {
   "cell_type": "markdown",
   "id": "f308f79d-db59-423c-9a10-9e9b1bc39491",
   "metadata": {},
   "source": [
    "Q5. Create a generator function for prime numbers less than 1000. Use the next() method to print the\n",
    "first 20 prime numbers."
   ]
  },
  {
   "cell_type": "code",
   "execution_count": 23,
   "id": "cf7642aa-8916-497c-b8a6-9a9c87a4b14c",
   "metadata": {},
   "outputs": [
    {
     "name": "stdout",
     "output_type": "stream",
     "text": [
      "2\n",
      "3\n",
      "5\n",
      "7\n",
      "11\n",
      "13\n",
      "17\n",
      "19\n",
      "23\n",
      "29\n",
      "31\n",
      "37\n",
      "41\n",
      "43\n",
      "47\n",
      "53\n",
      "59\n",
      "61\n",
      "67\n",
      "71\n"
     ]
    }
   ],
   "source": [
    "def prime():\n",
    "    for i in range(1000):\n",
    "        is_Prime=True\n",
    "        if i<=1:\n",
    "            is_Prime=False\n",
    "            continue\n",
    "            \n",
    "        for j in range(2, int(i**0.5)+1):\n",
    "            if i%j==0:\n",
    "                \n",
    "                is_Prime=False\n",
    "                break\n",
    "        if is_Prime==True:\n",
    "            yield i\n",
    "result=prime()\n",
    "for _ in range(20):\n",
    "    prime = next(result)\n",
    "    print(prime)\n",
    "       \n",
    "            "
   ]
  },
  {
   "cell_type": "markdown",
   "id": "faf26289-ec78-4548-b7ef-ea92ee8d0b5c",
   "metadata": {},
   "source": [
    "Q6. Write a python program to print the first 10 Fibonacci numbers using a while loop."
   ]
  },
  {
   "cell_type": "code",
   "execution_count": 4,
   "id": "d279e642-a014-4470-860c-45baed7bbb30",
   "metadata": {},
   "outputs": [
    {
     "name": "stdout",
     "output_type": "stream",
     "text": [
      "0\n",
      "1\n",
      "1\n",
      "2\n",
      "3\n",
      "5\n",
      "8\n",
      "13\n",
      "21\n",
      "34\n"
     ]
    }
   ],
   "source": [
    "def fibonacci():\n",
    "    a,b=0,1\n",
    "    count=1\n",
    "    while count<=10:\n",
    "        print(a)\n",
    "        a,b=b,a+b\n",
    "        count=count+1\n",
    "fibonacci()"
   ]
  },
  {
   "cell_type": "markdown",
   "id": "c2ca40df-d8ee-4f6e-997a-ec6beff95ad9",
   "metadata": {},
   "source": [
    "Q7. Write a List Comprehension to iterate through the given string: ‘pwskills’.\n",
    "Expected output: ['p', 'w', 's', 'k', 'i', 'l', 'l', 's']"
   ]
  },
  {
   "cell_type": "code",
   "execution_count": 9,
   "id": "f39fb034-8a40-4089-ad15-b952ecd9e80a",
   "metadata": {},
   "outputs": [
    {
     "name": "stdout",
     "output_type": "stream",
     "text": [
      "['p', 'w', 's', 'k', 'i', 'l', 'l', 's']\n"
     ]
    }
   ],
   "source": [
    "string = 'pwskills'\n",
    "output = [char for char in string ]\n",
    "print(output)"
   ]
  },
  {
   "cell_type": "markdown",
   "id": "2dca149d-e5ba-49b2-a954-27c4bd0b98b1",
   "metadata": {},
   "source": [
    "Q8. Write a python program to check whether a given number is Palindrome or not using a while loop."
   ]
  },
  {
   "cell_type": "code",
   "execution_count": 20,
   "id": "c80c61cf-662e-4ee3-898d-89204ae11b86",
   "metadata": {},
   "outputs": [
    {
     "name": "stdout",
     "output_type": "stream",
     "text": [
      "1236\n",
      "123\n"
     ]
    }
   ],
   "source": [
    "number=1236\n",
    "print(number%100000)\n",
    "print(int(number/10))"
   ]
  },
  {
   "cell_type": "code",
   "execution_count": 28,
   "id": "1ad68fd7-5241-4808-bbb4-6cad2bd0aea7",
   "metadata": {},
   "outputs": [
    {
     "name": "stdout",
     "output_type": "stream",
     "text": [
      "number  12345654321  is a palindrome Number\n"
     ]
    }
   ],
   "source": [
    "def palindrome():\n",
    "    inputnumber=12345654321\n",
    "    demo_InputNumber=inputnumber\n",
    "    new_Nmuber=0\n",
    "    while demo_InputNumber>0:\n",
    "        new_Nmuber=demo_InputNumber%10+new_Nmuber*10\n",
    "        demo_InputNumber=demo_InputNumber//10\n",
    "    if new_Nmuber==inputnumber:\n",
    "        print(\"number \" , inputnumber, \" is a palindrome Number\")\n",
    "    else:\n",
    "        print(\"number \" , inputnumber, \" is not a palindrome Number\")\n",
    "palindrome()\n",
    "        "
   ]
  },
  {
   "cell_type": "markdown",
   "id": "15726ceb-f85b-4805-b1ab-c4dcc2a84612",
   "metadata": {},
   "source": [
    "Q9. Write a code to print odd numbers from 1 to 100 using list comprehension.\n",
    "Note: Use a list comprehension to create a list from 1 to 100 and use another List comprehension to filter\n",
    "out odd numbers."
   ]
  },
  {
   "cell_type": "code",
   "execution_count": 31,
   "id": "09c01fe7-e84f-4a5f-8c5f-efda2e6d5d52",
   "metadata": {},
   "outputs": [
    {
     "name": "stdout",
     "output_type": "stream",
     "text": [
      "[1, 2, 3, 4, 5, 6, 7, 8, 9, 10, 11, 12, 13, 14, 15, 16, 17, 18, 19, 20, 21, 22, 23, 24, 25, 26, 27, 28, 29, 30, 31, 32, 33, 34, 35, 36, 37, 38, 39, 40, 41, 42, 43, 44, 45, 46, 47, 48, 49, 50, 51, 52, 53, 54, 55, 56, 57, 58, 59, 60, 61, 62, 63, 64, 65, 66, 67, 68, 69, 70, 71, 72, 73, 74, 75, 76, 77, 78, 79, 80, 81, 82, 83, 84, 85, 86, 87, 88, 89, 90, 91, 92, 93, 94, 95, 96, 97, 98, 99, 100]\n",
      "[1, 3, 5, 7, 9, 11, 13, 15, 17, 19, 21, 23, 25, 27, 29, 31, 33, 35, 37, 39, 41, 43, 45, 47, 49, 51, 53, 55, 57, 59, 61, 63, 65, 67, 69, 71, 73, 75, 77, 79, 81, 83, 85, 87, 89, 91, 93, 95, 97, 99]\n"
     ]
    }
   ],
   "source": [
    "def oddnumber():\n",
    "    list_Total=[]\n",
    "    for i in range(1,101):\n",
    "        list_Total.append(i)\n",
    "    list_odd=[]\n",
    "    for i in list_Total:\n",
    "        if i%2!=0:\n",
    "            list_odd.append(i)\n",
    "    print(list_Total)\n",
    "    print(list_odd)\n",
    "oddnumber()\n",
    "        "
   ]
  },
  {
   "cell_type": "code",
   "execution_count": null,
   "id": "96a28aa8-5f56-42d4-8921-41de3c086b41",
   "metadata": {},
   "outputs": [],
   "source": []
  }
 ],
 "metadata": {
  "kernelspec": {
   "display_name": "Python 3 (ipykernel)",
   "language": "python",
   "name": "python3"
  },
  "language_info": {
   "codemirror_mode": {
    "name": "ipython",
    "version": 3
   },
   "file_extension": ".py",
   "mimetype": "text/x-python",
   "name": "python",
   "nbconvert_exporter": "python",
   "pygments_lexer": "ipython3",
   "version": "3.10.8"
  }
 },
 "nbformat": 4,
 "nbformat_minor": 5
}
